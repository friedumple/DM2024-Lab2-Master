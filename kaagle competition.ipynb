{
 "cells": [
  {
   "cell_type": "code",
   "execution_count": 1,
   "id": "754ab3ff",
   "metadata": {
    "_cell_guid": "0f9bfb18-b8eb-4d0c-9f90-0685e653aeaa",
    "_uuid": "242160c4-2a74-45e1-9258-9f3a36c480d8",
    "collapsed": false,
    "execution": {
     "iopub.execute_input": "2024-12-09T00:04:42.716844Z",
     "iopub.status.busy": "2024-12-09T00:04:42.716508Z",
     "iopub.status.idle": "2024-12-09T00:04:45.020535Z",
     "shell.execute_reply": "2024-12-09T00:04:45.019808Z"
    },
    "jupyter": {
     "outputs_hidden": false
    },
    "papermill": {
     "duration": 2.313839,
     "end_time": "2024-12-09T00:04:45.022568",
     "exception": false,
     "start_time": "2024-12-09T00:04:42.708729",
     "status": "completed"
    },
    "tags": []
   },
   "outputs": [],
   "source": [
    "#Set up\n",
    "import pandas as pd\n",
    "import numpy as np\n",
    "import json\n",
    "import matplotlib.pyplot as plt\n",
    "import seaborn as sns\n",
    "from sklearn.model_selection import train_test_split\n",
    "from sklearn.feature_extraction.text import TfidfVectorizer\n",
    "from sklearn.linear_model import LogisticRegression\n",
    "from sklearn.metrics import classification_report, f1_score"
   ]
  },
  {
   "cell_type": "code",
   "execution_count": 2,
   "id": "d69cab10",
   "metadata": {
    "_cell_guid": "15f87024-3f7c-4d6e-9820-6b0fe9e59370",
    "_uuid": "71385a0f-fdb0-42a3-ba08-7809ffa8c24d",
    "collapsed": false,
    "execution": {
     "iopub.execute_input": "2024-12-09T00:04:45.036795Z",
     "iopub.status.busy": "2024-12-09T00:04:45.036436Z",
     "iopub.status.idle": "2024-12-09T00:04:46.175608Z",
     "shell.execute_reply": "2024-12-09T00:04:46.174872Z"
    },
    "jupyter": {
     "outputs_hidden": false
    },
    "papermill": {
     "duration": 1.147772,
     "end_time": "2024-12-09T00:04:46.177719",
     "exception": false,
     "start_time": "2024-12-09T00:04:45.029947",
     "status": "completed"
    },
    "tags": []
   },
   "outputs": [],
   "source": [
    "#Load the data\n",
    "#Understand the data_identification first\n",
    "data_identification = pd.read_csv('/kaggle/input/dm-2024-isa-5810-lab-2-homework/data_identification.csv')"
   ]
  },
  {
   "cell_type": "code",
   "execution_count": 3,
   "id": "507d007f",
   "metadata": {
    "_cell_guid": "9d07334b-05f0-4554-8e77-9d33234604d6",
    "_uuid": "af055ce1-8c80-41da-9fab-c3d27d979df2",
    "collapsed": false,
    "execution": {
     "iopub.execute_input": "2024-12-09T00:04:46.190748Z",
     "iopub.status.busy": "2024-12-09T00:04:46.190491Z",
     "iopub.status.idle": "2024-12-09T00:04:46.201321Z",
     "shell.execute_reply": "2024-12-09T00:04:46.200370Z"
    },
    "jupyter": {
     "outputs_hidden": false
    },
    "papermill": {
     "duration": 0.019227,
     "end_time": "2024-12-09T00:04:46.203071",
     "exception": false,
     "start_time": "2024-12-09T00:04:46.183844",
     "status": "completed"
    },
    "tags": []
   },
   "outputs": [
    {
     "name": "stdout",
     "output_type": "stream",
     "text": [
      "   tweet_id identification\n",
      "0  0x28cc61           test\n",
      "1  0x29e452          train\n",
      "2  0x2b3819          train\n",
      "3  0x2db41f           test\n",
      "4  0x2a2acc          train\n"
     ]
    }
   ],
   "source": [
    "print(data_identification.head())"
   ]
  },
  {
   "cell_type": "code",
   "execution_count": 4,
   "id": "a719207d",
   "metadata": {
    "_cell_guid": "2b80e6f5-7336-4fda-812e-06d4be82f14c",
    "_uuid": "a7d72fca-3a5a-4d00-90b6-38b46a0d18cc",
    "collapsed": false,
    "execution": {
     "iopub.execute_input": "2024-12-09T00:04:46.216631Z",
     "iopub.status.busy": "2024-12-09T00:04:46.216172Z",
     "iopub.status.idle": "2024-12-09T00:04:46.408178Z",
     "shell.execute_reply": "2024-12-09T00:04:46.407275Z"
    },
    "jupyter": {
     "outputs_hidden": false
    },
    "papermill": {
     "duration": 0.201428,
     "end_time": "2024-12-09T00:04:46.410572",
     "exception": false,
     "start_time": "2024-12-09T00:04:46.209144",
     "status": "completed"
    },
    "tags": []
   },
   "outputs": [
    {
     "name": "stdout",
     "output_type": "stream",
     "text": [
      "tweet_id          0\n",
      "identification    0\n",
      "dtype: int64\n"
     ]
    }
   ],
   "source": [
    "print(data_identification.isnull().sum())"
   ]
  },
  {
   "cell_type": "code",
   "execution_count": 5,
   "id": "9775fbdf",
   "metadata": {
    "_cell_guid": "cc9daefb-729b-436b-8a49-e9bc45a2f2e8",
    "_uuid": "5afbd43c-868f-4897-9079-0f1158ff5450",
    "collapsed": false,
    "execution": {
     "iopub.execute_input": "2024-12-09T00:04:46.430715Z",
     "iopub.status.busy": "2024-12-09T00:04:46.429797Z",
     "iopub.status.idle": "2024-12-09T00:04:46.451763Z",
     "shell.execute_reply": "2024-12-09T00:04:46.450965Z"
    },
    "jupyter": {
     "outputs_hidden": false
    },
    "papermill": {
     "duration": 0.032106,
     "end_time": "2024-12-09T00:04:46.453382",
     "exception": false,
     "start_time": "2024-12-09T00:04:46.421276",
     "status": "completed"
    },
    "tags": []
   },
   "outputs": [
    {
     "name": "stdout",
     "output_type": "stream",
     "text": [
      "<class 'pandas.core.frame.DataFrame'>\n",
      "RangeIndex: 1867535 entries, 0 to 1867534\n",
      "Data columns (total 2 columns):\n",
      " #   Column          Dtype \n",
      "---  ------          ----- \n",
      " 0   tweet_id        object\n",
      " 1   identification  object\n",
      "dtypes: object(2)\n",
      "memory usage: 28.5+ MB\n",
      "None\n"
     ]
    }
   ],
   "source": [
    "print(data_identification.info())"
   ]
  },
  {
   "cell_type": "code",
   "execution_count": 6,
   "id": "175949f6",
   "metadata": {
    "_cell_guid": "60d255a5-96e1-464d-93e3-68b7a28cd8b7",
    "_uuid": "46278820-e923-4cd2-9b02-61e4bd0c476a",
    "collapsed": false,
    "execution": {
     "iopub.execute_input": "2024-12-09T00:04:46.467070Z",
     "iopub.status.busy": "2024-12-09T00:04:46.466312Z",
     "iopub.status.idle": "2024-12-09T00:04:47.612811Z",
     "shell.execute_reply": "2024-12-09T00:04:47.612051Z"
    },
    "jupyter": {
     "outputs_hidden": false
    },
    "papermill": {
     "duration": 1.155153,
     "end_time": "2024-12-09T00:04:47.614484",
     "exception": false,
     "start_time": "2024-12-09T00:04:46.459331",
     "status": "completed"
    },
    "tags": []
   },
   "outputs": [
    {
     "data": {
      "image/png": "[encoded data removed]",
      "text/plain": [
       "<Figure size 640x480 with 1 Axes>"
      ]
     },
     "metadata": {},
     "output_type": "display_data"
    }
   ],
   "source": [
    "#Check the distribution\n",
    "sns.countplot(data=data_identification, x='identification')\n",
    "plt.title(\"Training vs Testing Data Distribution\")\n",
    "plt.show()"
   ]
  },
  {
   "cell_type": "code",
   "execution_count": 7,
   "id": "589effa2",
   "metadata": {
    "_cell_guid": "83dcfe96-36c6-42c2-a424-6b5f9abf5aa2",
    "_uuid": "bcb41c36-e01c-4fb6-9cdf-1b611371e539",
    "collapsed": false,
    "execution": {
     "iopub.execute_input": "2024-12-09T00:04:47.628119Z",
     "iopub.status.busy": "2024-12-09T00:04:47.627802Z",
     "iopub.status.idle": "2024-12-09T00:04:48.498803Z",
     "shell.execute_reply": "2024-12-09T00:04:48.498020Z"
    },
    "jupyter": {
     "outputs_hidden": false
    },
    "papermill": {
     "duration": 0.879727,
     "end_time": "2024-12-09T00:04:48.500448",
     "exception": false,
     "start_time": "2024-12-09T00:04:47.620721",
     "status": "completed"
    },
    "tags": []
   },
   "outputs": [
    {
     "name": "stdout",
     "output_type": "stream",
     "text": [
      "Number of duplicate tweet_id: 0\n"
     ]
    }
   ],
   "source": [
    "print(f\"Number of duplicate tweet_id: {data_identification['tweet_id'].duplicated().sum()}\")"
   ]
  },
  {
   "cell_type": "code",
   "execution_count": 8,
   "id": "fe7f2d4e",
   "metadata": {
    "_cell_guid": "43bb8e45-acd2-4637-83a2-78dc66cef1c9",
    "_uuid": "163ea3c1-8a76-4094-9617-5b698e43aa46",
    "collapsed": false,
    "execution": {
     "iopub.execute_input": "2024-12-09T00:04:48.514856Z",
     "iopub.status.busy": "2024-12-09T00:04:48.514582Z",
     "iopub.status.idle": "2024-12-09T00:04:48.523297Z",
     "shell.execute_reply": "2024-12-09T00:04:48.522507Z"
    },
    "jupyter": {
     "outputs_hidden": false
    },
    "papermill": {
     "duration": 0.017597,
     "end_time": "2024-12-09T00:04:48.524850",
     "exception": false,
     "start_time": "2024-12-09T00:04:48.507253",
     "status": "completed"
    },
    "tags": []
   },
   "outputs": [
    {
     "name": "stdout",
     "output_type": "stream",
     "text": [
      "{\"_score\": 391, \"_index\": \"hashtag_tweets\", \"_source\": {\"tweet\": {\"hashtags\": [\"Snapchat\"], \"tweet_id\": \"0x376b20\", \"text\": \"People who post \\\"add me on #Snapchat\\\" must be dehydrated. Cuz man.... that's <LH>\"}}, \"_crawldate\": \"2015-05-23 11:42:47\", \"_type\": \"tweets\"}\n",
      "{\"_score\": 433, \"_index\": \"hashtag_tweets\", \"_source\": {\"tweet\": {\"hashtags\": [\"freepress\", \"TrumpLegacy\", \"CNN\"], \"tweet_id\": \"0x2d5350\", \"text\": \"@brianklaas As we see, Trump is dangerous to #freepress around the world. What a <LH> <LH> #TrumpLegacy.  #CNN\"}}, \"_crawldate\": \"2016-01-28 04:52:09\", \"_type\": \"tweets\"}\n",
      "{\"_score\": 232, \"_index\": \"hashtag_tweets\", \"_source\": {\"tweet\": {\"hashtags\": [\"bibleverse\"], \"tweet_id\": \"0x28b412\", \"text\": \"Confident of your obedience, I write to you, knowing that you will do even more than I ask. (Philemon 1:21) 3/4 #bibleverse <LH> <LH>\"}}, \"_crawldate\": \"2017-12-25 04:39:20\", \"_type\": \"tweets\"}\n",
      "{\"_score\": 376, \"_index\": \"hashtag_tweets\", \"_source\": {\"tweet\": {\"hashtags\": [], \"tweet_id\": \"0x1cd5b0\", \"text\": \"Now ISSA is stalking Tasha \\ud83d\\ude02\\ud83d\\ude02\\ud83d\\ude02 <LH>\"}}, \"_crawldate\": \"2016-01-24 23:53:05\", \"_type\": \"tweets\"}\n",
      "{\"_score\": 989, \"_index\": \"hashtag_tweets\", \"_source\": {\"tweet\": {\"hashtags\": [], \"tweet_id\": \"0x2de201\", \"text\": \"\\\"Trust is not the same as faith. A friend is someone you trust. Putting faith in anyone is a mistake.\\\" ~ Christopher Hitchens <LH> <LH>\"}}, \"_crawldate\": \"2016-01-08 17:18:59\", \"_type\": \"tweets\"}\n"
     ]
    }
   ],
   "source": [
    "#Next is tweets_DM\n",
    "with open('/kaggle/input/dm-2024-isa-5810-lab-2-homework/tweets_DM.json', 'r') as f:\n",
    "    for i, line in enumerate(f):\n",
    "        print(line.strip())\n",
    "        if i == 4:  # Print first 5 lines\n",
    "            break"
   ]
  },
  {
   "cell_type": "code",
   "execution_count": 9,
   "id": "57135bb6",
   "metadata": {
    "_cell_guid": "059d3586-bc29-49aa-b7c2-01ed103a84c3",
    "_uuid": "61cf81d1-4c6b-4100-8e0a-a66a9e3d3da9",
    "collapsed": false,
    "execution": {
     "iopub.execute_input": "2024-12-09T00:04:48.539963Z",
     "iopub.status.busy": "2024-12-09T00:04:48.539275Z",
     "iopub.status.idle": "2024-12-09T00:05:00.653562Z",
     "shell.execute_reply": "2024-12-09T00:05:00.652727Z"
    },
    "jupyter": {
     "outputs_hidden": false
    },
    "papermill": {
     "duration": 12.124156,
     "end_time": "2024-12-09T00:05:00.655407",
     "exception": false,
     "start_time": "2024-12-09T00:04:48.531251",
     "status": "completed"
    },
    "tags": []
   },
   "outputs": [
    {
     "name": "stdout",
     "output_type": "stream",
     "text": [
      "   tweet_id                                               text\n",
      "0  0x376b20  People who post \"add me on #Snapchat\" must be ...\n",
      "1  0x2d5350  @brianklaas As we see, Trump is dangerous to #...\n",
      "2  0x28b412  Confident of your obedience, I write to you, k...\n",
      "3  0x1cd5b0                Now ISSA is stalking Tasha 😂😂😂 <LH>\n",
      "4  0x2de201  \"Trust is not the same as faith. A friend is s...\n"
     ]
    }
   ],
   "source": [
    "#Convert to dataframe\n",
    "import json\n",
    "import pandas as pd\n",
    "\n",
    "tweets = []\n",
    "\n",
    "with open('/kaggle/input/dm-2024-isa-5810-lab-2-homework/tweets_DM.json', 'r') as f:\n",
    "    for line in f:\n",
    "        data = json.loads(line.strip())  \n",
    "        tweet_id = data[\"_source\"][\"tweet\"][\"tweet_id\"]\n",
    "        text = data[\"_source\"][\"tweet\"][\"text\"]\n",
    "        tweets.append({\"tweet_id\": tweet_id, \"text\": text})\n",
    "\n",
    "\n",
    "tweets_df = pd.DataFrame(tweets)\n",
    "\n",
    "print(tweets_df.head())"
   ]
  },
  {
   "cell_type": "code",
   "execution_count": 10,
   "id": "e17b5dd5",
   "metadata": {
    "_cell_guid": "3252f9d1-a09a-4874-8eff-219a3d779f56",
    "_uuid": "c02127e7-5103-4128-957b-3dc55e2f330f",
    "collapsed": false,
    "execution": {
     "iopub.execute_input": "2024-12-09T00:05:00.670137Z",
     "iopub.status.busy": "2024-12-09T00:05:00.669479Z",
     "iopub.status.idle": "2024-12-09T00:05:01.531336Z",
     "shell.execute_reply": "2024-12-09T00:05:01.530485Z"
    },
    "jupyter": {
     "outputs_hidden": false
    },
    "papermill": {
     "duration": 0.871038,
     "end_time": "2024-12-09T00:05:01.533278",
     "exception": false,
     "start_time": "2024-12-09T00:05:00.662240",
     "status": "completed"
    },
    "tags": []
   },
   "outputs": [],
   "source": [
    "#emotion.csv\n",
    "emotion = pd.read_csv('/kaggle/input/dm-2024-isa-5810-lab-2-homework/emotion.csv')"
   ]
  },
  {
   "cell_type": "code",
   "execution_count": 11,
   "id": "05a6aa9a",
   "metadata": {
    "_cell_guid": "d8448f7b-3299-4e10-bcaf-5fd15aff062b",
    "_uuid": "42674dc0-a7cd-4d01-9b8e-91b65586067b",
    "collapsed": false,
    "execution": {
     "iopub.execute_input": "2024-12-09T00:05:01.549267Z",
     "iopub.status.busy": "2024-12-09T00:05:01.548959Z",
     "iopub.status.idle": "2024-12-09T00:05:01.681777Z",
     "shell.execute_reply": "2024-12-09T00:05:01.680804Z"
    },
    "jupyter": {
     "outputs_hidden": false
    },
    "papermill": {
     "duration": 0.142993,
     "end_time": "2024-12-09T00:05:01.683516",
     "exception": false,
     "start_time": "2024-12-09T00:05:01.540523",
     "status": "completed"
    },
    "tags": []
   },
   "outputs": [
    {
     "name": "stdout",
     "output_type": "stream",
     "text": [
      "   tweet_id       emotion\n",
      "0  0x3140b1       sadness\n",
      "1  0x368b73       disgust\n",
      "2  0x296183  anticipation\n",
      "3  0x2bd6e1           joy\n",
      "4  0x2ee1dd  anticipation\n",
      "<class 'pandas.core.frame.DataFrame'>\n",
      "RangeIndex: 1455563 entries, 0 to 1455562\n",
      "Data columns (total 2 columns):\n",
      " #   Column    Non-Null Count    Dtype \n",
      "---  ------    --------------    ----- \n",
      " 0   tweet_id  1455563 non-null  object\n",
      " 1   emotion   1455563 non-null  object\n",
      "dtypes: object(2)\n",
      "memory usage: 22.2+ MB\n",
      "None\n"
     ]
    }
   ],
   "source": [
    "print(emotion.head())\n",
    "print(emotion.info())"
   ]
  },
  {
   "cell_type": "code",
   "execution_count": 12,
   "id": "af400dd3",
   "metadata": {
    "_cell_guid": "6711f3ee-7da5-493b-868c-4a5bd4f039e3",
    "_uuid": "e49d2fe1-476f-46d2-b15b-e69c0ca2bb84",
    "collapsed": false,
    "execution": {
     "iopub.execute_input": "2024-12-09T00:05:01.697931Z",
     "iopub.status.busy": "2024-12-09T00:05:01.697658Z",
     "iopub.status.idle": "2024-12-09T00:05:02.446125Z",
     "shell.execute_reply": "2024-12-09T00:05:02.445238Z"
    },
    "jupyter": {
     "outputs_hidden": false
    },
    "papermill": {
     "duration": 0.757369,
     "end_time": "2024-12-09T00:05:02.447784",
     "exception": false,
     "start_time": "2024-12-09T00:05:01.690415",
     "status": "completed"
    },
    "tags": []
   },
   "outputs": [
    {
     "data": {
      "image/png": "[encoded data removed]",
      "text/plain": [
       "<Figure size 640x480 with 1 Axes>"
      ]
     },
     "metadata": {},
     "output_type": "display_data"
    }
   ],
   "source": [
    "#Check the distribution\n",
    "sns.countplot(data=emotion, x='emotion', order=emotion['emotion'].value_counts().index)\n",
    "plt.title(\"Emotion Label Distribution\")\n",
    "plt.xticks(rotation=45)\n",
    "plt.show()"
   ]
  },
  {
   "cell_type": "code",
   "execution_count": 13,
   "id": "bc9ad373",
   "metadata": {
    "_cell_guid": "4f3bfd24-cd93-4d44-8b2d-88ebba20c671",
    "_uuid": "f8bc7404-7f2a-42b9-956c-afc97c0e3c96",
    "collapsed": false,
    "execution": {
     "iopub.execute_input": "2024-12-09T00:05:02.463460Z",
     "iopub.status.busy": "2024-12-09T00:05:02.463185Z",
     "iopub.status.idle": "2024-12-09T00:05:02.805487Z",
     "shell.execute_reply": "2024-12-09T00:05:02.804495Z"
    },
    "jupyter": {
     "outputs_hidden": false
    },
    "papermill": {
     "duration": 0.351741,
     "end_time": "2024-12-09T00:05:02.807134",
     "exception": false,
     "start_time": "2024-12-09T00:05:02.455393",
     "status": "completed"
    },
    "tags": []
   },
   "outputs": [
    {
     "name": "stdout",
     "output_type": "stream",
     "text": [
      "Number of missing tweet_id: 0\n",
      "Number of duplicate tweet_id: 0\n"
     ]
    }
   ],
   "source": [
    "print(f\"Number of missing tweet_id: {emotion['tweet_id'].isnull().sum()}\")\n",
    "print(f\"Number of duplicate tweet_id: {emotion['tweet_id'].duplicated().sum()}\")"
   ]
  },
  {
   "cell_type": "code",
   "execution_count": 14,
   "id": "e75ca55e",
   "metadata": {
    "_cell_guid": "78bc99ba-93a7-4879-8222-93703fc4007e",
    "_uuid": "01593a40-3f23-4ceb-b623-1b2f9af22ffa",
    "collapsed": false,
    "execution": {
     "iopub.execute_input": "2024-12-09T00:05:02.822374Z",
     "iopub.status.busy": "2024-12-09T00:05:02.822107Z",
     "iopub.status.idle": "2024-12-09T00:05:06.697711Z",
     "shell.execute_reply": "2024-12-09T00:05:06.696682Z"
    },
    "jupyter": {
     "outputs_hidden": false
    },
    "papermill": {
     "duration": 3.885089,
     "end_time": "2024-12-09T00:05:06.699496",
     "exception": false,
     "start_time": "2024-12-09T00:05:02.814407",
     "status": "completed"
    },
    "tags": []
   },
   "outputs": [
    {
     "name": "stdout",
     "output_type": "stream",
     "text": [
      "   tweet_id identification                                               text\n",
      "0  0x28cc61           test  @Habbo I've seen two separate colours of the e...\n",
      "1  0x29e452          train  Huge Respect🖒 @JohnnyVegasReal talking about l...\n",
      "2  0x2b3819          train  Yoooo we hit all our monthly goals with the ne...\n",
      "3  0x2db41f           test  @FoxNews @KellyannePolls No serious self respe...\n",
      "4  0x2a2acc          train  @KIDSNTS @PICU_BCH @uhbcomms @BWCHBoss Well do...\n"
     ]
    }
   ],
   "source": [
    "# Combine data_identification.csv and tweets_DM.json\n",
    "tweets_df = pd.DataFrame(tweets)\n",
    "merged_data = pd.merge(data_identification, tweets_df, on='tweet_id', how='left')  # Merge using tweet_id\n",
    "\n",
    "print(merged_data.head())"
   ]
  },
  {
   "cell_type": "code",
   "execution_count": 15,
   "id": "d6451cbb",
   "metadata": {
    "_cell_guid": "94e56fa5-a4ef-4dde-a277-3433333ff4ec",
    "_uuid": "29bfcde1-c73a-4d69-a33f-a0befe3eeea8",
    "collapsed": false,
    "execution": {
     "iopub.execute_input": "2024-12-09T00:05:06.715150Z",
     "iopub.status.busy": "2024-12-09T00:05:06.714603Z",
     "iopub.status.idle": "2024-12-09T00:05:08.864175Z",
     "shell.execute_reply": "2024-12-09T00:05:08.863200Z"
    },
    "jupyter": {
     "outputs_hidden": false
    },
    "papermill": {
     "duration": 2.159442,
     "end_time": "2024-12-09T00:05:08.866273",
     "exception": false,
     "start_time": "2024-12-09T00:05:06.706831",
     "status": "completed"
    },
    "tags": []
   },
   "outputs": [],
   "source": [
    "#Add emotion labels to training data\n",
    "train_data = pd.merge(merged_data[merged_data['identification'] == 'train'], emotion, on='tweet_id', how='left')\n",
    "test_data = merged_data[merged_data['identification'] == 'test']"
   ]
  },
  {
   "cell_type": "code",
   "execution_count": 16,
   "id": "4a177d8e",
   "metadata": {
    "_cell_guid": "40b3f8ef-0b8d-48b2-ab5a-816287c56fba",
    "_uuid": "2da1f489-2206-4a7e-8b17-50165afd87bd",
    "collapsed": false,
    "execution": {
     "iopub.execute_input": "2024-12-09T00:05:08.882192Z",
     "iopub.status.busy": "2024-12-09T00:05:08.881495Z",
     "iopub.status.idle": "2024-12-09T00:05:08.889215Z",
     "shell.execute_reply": "2024-12-09T00:05:08.888303Z"
    },
    "jupyter": {
     "outputs_hidden": false
    },
    "papermill": {
     "duration": 0.017622,
     "end_time": "2024-12-09T00:05:08.891261",
     "exception": false,
     "start_time": "2024-12-09T00:05:08.873639",
     "status": "completed"
    },
    "tags": []
   },
   "outputs": [
    {
     "name": "stdout",
     "output_type": "stream",
     "text": [
      "   tweet_id identification                                               text  \\\n",
      "0  0x29e452          train  Huge Respect🖒 @JohnnyVegasReal talking about l...   \n",
      "1  0x2b3819          train  Yoooo we hit all our monthly goals with the ne...   \n",
      "2  0x2a2acc          train  @KIDSNTS @PICU_BCH @uhbcomms @BWCHBoss Well do...   \n",
      "3  0x2a8830          train  Come join @ambushman27 on #PUBG while he striv...   \n",
      "4  0x20b21d          train  @fanshixieen2014 Blessings!My #strength little...   \n",
      "\n",
      "        emotion  \n",
      "0           joy  \n",
      "1           joy  \n",
      "2         trust  \n",
      "3           joy  \n",
      "4  anticipation  \n",
      "    tweet_id identification                                               text\n",
      "0   0x28cc61           test  @Habbo I've seen two separate colours of the e...\n",
      "3   0x2db41f           test  @FoxNews @KellyannePolls No serious self respe...\n",
      "15  0x2466f6           test  Looking for a new car, and it says 1 lady owne...\n",
      "23  0x23f9e9           test  @cineworld “only the brave” just out and fount...\n",
      "31  0x1fb4e1           test  Felt like total dog 💩 going into open gym and ...\n"
     ]
    }
   ],
   "source": [
    "print(train_data.head())\n",
    "print(test_data.head())"
   ]
  },
  {
   "cell_type": "code",
   "execution_count": 17,
   "id": "327f338c",
   "metadata": {
    "execution": {
     "iopub.execute_input": "2024-12-09T00:05:08.907332Z",
     "iopub.status.busy": "2024-12-09T00:05:08.907071Z",
     "iopub.status.idle": "2024-12-09T00:05:09.297534Z",
     "shell.execute_reply": "2024-12-09T00:05:09.296626Z"
    },
    "papermill": {
     "duration": 0.400238,
     "end_time": "2024-12-09T00:05:09.299639",
     "exception": false,
     "start_time": "2024-12-09T00:05:08.899401",
     "status": "completed"
    },
    "tags": []
   },
   "outputs": [],
   "source": [
    "#Text Preprocessing\n",
    "import re\n",
    "from nltk.corpus import stopwords\n",
    "from nltk.tokenize import word_tokenize\n",
    "\n",
    "stop_words = set(stopwords.words('english'))\n",
    "\n",
    "def clean_text(text):\n",
    "    text = text.lower()\n",
    "    text = re.sub(r'http\\S+|www\\S+|https\\S+', '', text)  # Remove URLs\n",
    "    text = re.sub(r'@\\w+|#\\w+', '', text)  # Remove mentions and hashtags\n",
    "    text = re.sub(r'<lh>', '', text)  # Remove <LH> placeholders\n",
    "    text = re.sub(r'[^a-z\\s]', '', text)  # Remove special characters\n",
    "    words = text.split()\n",
    "    words = [word for word in words if word not in stop_words]  # Remove stopwords\n",
    "    return ' '.join(words)\n"
   ]
  },
  {
   "cell_type": "code",
   "execution_count": 18,
   "id": "a8a0cf5a",
   "metadata": {
    "execution": {
     "iopub.execute_input": "2024-12-09T00:05:09.315435Z",
     "iopub.status.busy": "2024-12-09T00:05:09.315157Z",
     "iopub.status.idle": "2024-12-09T00:05:28.125471Z",
     "shell.execute_reply": "2024-12-09T00:05:28.124783Z"
    },
    "papermill": {
     "duration": 18.820219,
     "end_time": "2024-12-09T00:05:28.127402",
     "exception": false,
     "start_time": "2024-12-09T00:05:09.307183",
     "status": "completed"
    },
    "tags": []
   },
   "outputs": [],
   "source": [
    "train_data = train_data.copy()  \n",
    "test_data = test_data.copy() \n",
    "\n",
    "train_data.loc[:, 'cleaned_text'] = train_data['text'].apply(clean_text)\n",
    "test_data.loc[:, 'cleaned_text'] = test_data['text'].apply(clean_text)"
   ]
  },
  {
   "cell_type": "code",
   "execution_count": 19,
   "id": "dfface10",
   "metadata": {
    "execution": {
     "iopub.execute_input": "2024-12-09T00:05:28.143940Z",
     "iopub.status.busy": "2024-12-09T00:05:28.143335Z",
     "iopub.status.idle": "2024-12-09T00:05:28.336896Z",
     "shell.execute_reply": "2024-12-09T00:05:28.336026Z"
    },
    "papermill": {
     "duration": 0.203671,
     "end_time": "2024-12-09T00:05:28.338684",
     "exception": false,
     "start_time": "2024-12-09T00:05:28.135013",
     "status": "completed"
    },
    "tags": []
   },
   "outputs": [
    {
     "name": "stdout",
     "output_type": "stream",
     "text": [
      "                                                text  \\\n",
      "0  Huge Respect🖒 @JohnnyVegasReal talking about l...   \n",
      "1  Yoooo we hit all our monthly goals with the ne...   \n",
      "2  @KIDSNTS @PICU_BCH @uhbcomms @BWCHBoss Well do...   \n",
      "3  Come join @ambushman27 on #PUBG while he striv...   \n",
      "4  @fanshixieen2014 Blessings!My #strength little...   \n",
      "\n",
      "                                        cleaned_text  \n",
      "0  huge respect talking losing dad cancerif dont ...  \n",
      "1          yoooo hit monthly goals new app two weeks  \n",
      "2                           well done team every one  \n",
      "3                  come join strives chicken donners  \n",
      "4  blessingsmy little brittledoor open wont go no...  \n",
      "                                                 text  \\\n",
      "0   @Habbo I've seen two separate colours of the e...   \n",
      "3   @FoxNews @KellyannePolls No serious self respe...   \n",
      "15  Looking for a new car, and it says 1 lady owne...   \n",
      "23  @cineworld “only the brave” just out and fount...   \n",
      "31  Felt like total dog 💩 going into open gym and ...   \n",
      "\n",
      "                                         cleaned_text  \n",
      "0   ive seen two separate colours elegant furni ho...  \n",
      "3   serious self respecting individual believes mu...  \n",
      "15  looking new car says lady owner means needs ne...  \n",
      "23               brave fountain park showings per day  \n",
      "31  felt like total dog going open gym migraine pl...  \n"
     ]
    }
   ],
   "source": [
    "print(train_data[['text', 'cleaned_text']].head())\n",
    "print(test_data[['text', 'cleaned_text']].head())"
   ]
  },
  {
   "cell_type": "code",
   "execution_count": 20,
   "id": "9f7ef2b3",
   "metadata": {
    "execution": {
     "iopub.execute_input": "2024-12-09T00:05:28.355106Z",
     "iopub.status.busy": "2024-12-09T00:05:28.354561Z",
     "iopub.status.idle": "2024-12-09T00:05:30.473640Z",
     "shell.execute_reply": "2024-12-09T00:05:30.472939Z"
    },
    "papermill": {
     "duration": 2.129286,
     "end_time": "2024-12-09T00:05:30.475594",
     "exception": false,
     "start_time": "2024-12-09T00:05:28.346308",
     "status": "completed"
    },
    "tags": []
   },
   "outputs": [],
   "source": [
    "#Most frequent label is \"joy,\" while \"anger\" is the least frequent.\n",
    "#This imbalance could affect model training and evaluation.\n",
    "\n",
    "from sklearn.utils import resample\n",
    "\n",
    "# Get the majority class\n",
    "majority = train_data[train_data['emotion'] == 'joy']\n",
    "\n",
    "# Set a target size for oversampling\n",
    "target_size = int(len(majority) * 0.75)  # 75% of the majority class size\n",
    "\n",
    "balanced_data = [majority]\n",
    "\n",
    "for emotion in train_data['emotion'].unique():\n",
    "    if emotion != 'joy':\n",
    "        minority = train_data[train_data['emotion'] == emotion]\n",
    "        oversampled_minority = resample(minority, \n",
    "                                        replace=True, \n",
    "                                        n_samples=min(target_size, len(majority)),  # Cap size\n",
    "                                        random_state=42)\n",
    "        balanced_data.append(oversampled_minority)\n",
    "\n",
    "train_data_balanced = pd.concat(balanced_data)"
   ]
  },
  {
   "cell_type": "code",
   "execution_count": 21,
   "id": "ce3e4d19",
   "metadata": {
    "execution": {
     "iopub.execute_input": "2024-12-09T00:05:30.492816Z",
     "iopub.status.busy": "2024-12-09T00:05:30.492549Z",
     "iopub.status.idle": "2024-12-09T00:05:31.951836Z",
     "shell.execute_reply": "2024-12-09T00:05:31.951022Z"
    },
    "papermill": {
     "duration": 1.470306,
     "end_time": "2024-12-09T00:05:31.953722",
     "exception": false,
     "start_time": "2024-12-09T00:05:30.483416",
     "status": "completed"
    },
    "tags": []
   },
   "outputs": [
    {
     "data": {
      "image/png": "[encoded data removed]",
      "text/plain": [
       "<Figure size 640x480 with 1 Axes>"
      ]
     },
     "metadata": {},
     "output_type": "display_data"
    }
   ],
   "source": [
    "# Check new label distribution\n",
    "sns.countplot(data=train_data_balanced, x='emotion', order=train_data_balanced['emotion'].value_counts().index)\n",
    "plt.title(\"Balanced Emotion Label Distribution\")\n",
    "plt.xticks(rotation=45)\n",
    "plt.show()"
   ]
  },
  {
   "cell_type": "code",
   "execution_count": 22,
   "id": "bee26d92",
   "metadata": {
    "execution": {
     "iopub.execute_input": "2024-12-09T00:05:31.971254Z",
     "iopub.status.busy": "2024-12-09T00:05:31.970599Z",
     "iopub.status.idle": "2024-12-09T00:05:41.755857Z",
     "shell.execute_reply": "2024-12-09T00:05:41.754904Z"
    },
    "papermill": {
     "duration": 9.795851,
     "end_time": "2024-12-09T00:05:41.758017",
     "exception": false,
     "start_time": "2024-12-09T00:05:31.962166",
     "status": "completed"
    },
    "tags": []
   },
   "outputs": [],
   "source": [
    "#try use SMOTE for synthetic data\n",
    "from sklearn.feature_extraction.text import TfidfVectorizer\n",
    "from imblearn.over_sampling import SMOTE\n",
    "from collections import Counter\n",
    "\n",
    "# Vectorize the text data\n",
    "vectorizer = TfidfVectorizer(max_features=500, ngram_range=(1, 1), max_df=0.8, min_df=5)\n",
    "X_train = vectorizer.fit_transform(train_data['cleaned_text'])\n",
    "y_train = train_data['emotion']"
   ]
  },
  {
   "cell_type": "code",
   "execution_count": 23,
   "id": "23b49236",
   "metadata": {
    "execution": {
     "iopub.execute_input": "2024-12-09T00:05:41.775504Z",
     "iopub.status.busy": "2024-12-09T00:05:41.775075Z",
     "iopub.status.idle": "2024-12-09T00:05:41.779490Z",
     "shell.execute_reply": "2024-12-09T00:05:41.778685Z"
    },
    "papermill": {
     "duration": 0.014657,
     "end_time": "2024-12-09T00:05:41.781109",
     "exception": false,
     "start_time": "2024-12-09T00:05:41.766452",
     "status": "completed"
    },
    "tags": []
   },
   "outputs": [
    {
     "name": "stdout",
     "output_type": "stream",
     "text": [
      "TF-IDF matrix shape: (1455563, 500)\n"
     ]
    }
   ],
   "source": [
    "# Inspect the shape of the feature matrix\n",
    "print(\"TF-IDF matrix shape:\", X_train.shape)"
   ]
  },
  {
   "cell_type": "code",
   "execution_count": 24,
   "id": "72a7375b",
   "metadata": {
    "execution": {
     "iopub.execute_input": "2024-12-09T00:05:41.797370Z",
     "iopub.status.busy": "2024-12-09T00:05:41.797111Z",
     "iopub.status.idle": "2024-12-09T00:11:05.674773Z",
     "shell.execute_reply": "2024-12-09T00:11:05.673802Z"
    },
    "papermill": {
     "duration": 323.895448,
     "end_time": "2024-12-09T00:11:05.684231",
     "exception": false,
     "start_time": "2024-12-09T00:05:41.788783",
     "status": "completed"
    },
    "tags": []
   },
   "outputs": [
    {
     "name": "stdout",
     "output_type": "stream",
     "text": [
      "Subset SMOTE label distribution: Counter({'trust': 103169, 'fear': 103169, 'surprise': 103169, 'joy': 103169, 'sadness': 103169, 'anticipation': 103169, 'disgust': 103169, 'anger': 103169})\n"
     ]
    }
   ],
   "source": [
    "# Subset a smaller portion of the dataset for testing becasue of computional limitation\n",
    "train_sample = train_data_balanced.sample(frac=0.2, random_state=42)\n",
    "X_sample = vectorizer.transform(train_sample['cleaned_text'])\n",
    "y_sample = train_sample['emotion']\n",
    "\n",
    "# Apply SMOTE on the subset\n",
    "smote = SMOTE(random_state=42)\n",
    "X_sample_smote, y_sample_smote = smote.fit_resample(X_sample, y_sample)\n",
    "\n",
    "print(\"Subset SMOTE label distribution:\", Counter(y_sample_smote))\n"
   ]
  },
  {
   "cell_type": "code",
   "execution_count": 25,
   "id": "5a57bef1",
   "metadata": {
    "execution": {
     "iopub.execute_input": "2024-12-09T00:11:05.701056Z",
     "iopub.status.busy": "2024-12-09T00:11:05.700717Z",
     "iopub.status.idle": "2024-12-09T00:11:05.705742Z",
     "shell.execute_reply": "2024-12-09T00:11:05.704913Z"
    },
    "papermill": {
     "duration": 0.015488,
     "end_time": "2024-12-09T00:11:05.707420",
     "exception": false,
     "start_time": "2024-12-09T00:11:05.691932",
     "status": "completed"
    },
    "tags": []
   },
   "outputs": [
    {
     "name": "stdout",
     "output_type": "stream",
     "text": [
      "Shape of resampled data: (825352, 500)\n",
      "First 5 resampled labels: 0       trust\n",
      "1        fear\n",
      "2    surprise\n",
      "3         joy\n",
      "4         joy\n",
      "Name: emotion, dtype: object\n"
     ]
    }
   ],
   "source": [
    "print(\"Shape of resampled data:\", X_sample_smote.shape)\n",
    "print(\"First 5 resampled labels:\", y_sample_smote[:5])\n"
   ]
  },
  {
   "cell_type": "code",
   "execution_count": 26,
   "id": "3e6f4d3b",
   "metadata": {
    "execution": {
     "iopub.execute_input": "2024-12-09T00:11:05.723819Z",
     "iopub.status.busy": "2024-12-09T00:11:05.723568Z",
     "iopub.status.idle": "2024-12-09T00:11:05.822321Z",
     "shell.execute_reply": "2024-12-09T00:11:05.821373Z"
    },
    "papermill": {
     "duration": 0.108978,
     "end_time": "2024-12-09T00:11:05.824066",
     "exception": false,
     "start_time": "2024-12-09T00:11:05.715088",
     "status": "completed"
    },
    "tags": []
   },
   "outputs": [
    {
     "name": "stdout",
     "output_type": "stream",
     "text": [
      "Training set shape: (660281, 500)\n",
      "Validation set shape: (165071, 500)\n"
     ]
    }
   ],
   "source": [
    "#Split the balanced subset into training and validation sets \n",
    "from sklearn.model_selection import train_test_split\n",
    "\n",
    "# Split data\n",
    "X_train_split, X_val, y_train_split, y_val = train_test_split(\n",
    "    X_sample_smote, y_sample_smote, test_size=0.2, random_state=42\n",
    ")\n",
    "\n",
    "print(\"Training set shape:\", X_train_split.shape)\n",
    "print(\"Validation set shape:\", X_val.shape)\n"
   ]
  },
  {
   "cell_type": "code",
   "execution_count": 27,
   "id": "1e2e577a",
   "metadata": {
    "execution": {
     "iopub.execute_input": "2024-12-09T00:11:05.841237Z",
     "iopub.status.busy": "2024-12-09T00:11:05.840897Z",
     "iopub.status.idle": "2024-12-09T00:12:19.946590Z",
     "shell.execute_reply": "2024-12-09T00:12:19.945524Z"
    },
    "papermill": {
     "duration": 74.116535,
     "end_time": "2024-12-09T00:12:19.948754",
     "exception": false,
     "start_time": "2024-12-09T00:11:05.832219",
     "status": "completed"
    },
    "tags": []
   },
   "outputs": [],
   "source": [
    "#Train the baseline logistic regression model\n",
    "from sklearn.linear_model import LogisticRegression\n",
    "from sklearn.metrics import classification_report, f1_score\n",
    "\n",
    "# Train Logistic Regression\n",
    "model = LogisticRegression(max_iter=1000, random_state=42)\n",
    "model.fit(X_train_split, y_train_split)\n",
    "\n",
    "# Predict on validation set\n",
    "y_val_pred = model.predict(X_val)"
   ]
  },
  {
   "cell_type": "code",
   "execution_count": 28,
   "id": "336ee0bf",
   "metadata": {
    "execution": {
     "iopub.execute_input": "2024-12-09T00:12:19.968035Z",
     "iopub.status.busy": "2024-12-09T00:12:19.967103Z",
     "iopub.status.idle": "2024-12-09T00:12:27.607674Z",
     "shell.execute_reply": "2024-12-09T00:12:27.606630Z"
    },
    "papermill": {
     "duration": 7.652008,
     "end_time": "2024-12-09T00:12:27.609555",
     "exception": false,
     "start_time": "2024-12-09T00:12:19.957547",
     "status": "completed"
    },
    "tags": []
   },
   "outputs": [
    {
     "name": "stdout",
     "output_type": "stream",
     "text": [
      "              precision    recall  f1-score   support\n",
      "\n",
      "       anger       0.26      0.30      0.28     20784\n",
      "anticipation       0.37      0.39      0.38     20720\n",
      "     disgust       0.24      0.20      0.22     20650\n",
      "        fear       0.35      0.34      0.34     20429\n",
      "         joy       0.33      0.24      0.27     20765\n",
      "     sadness       0.27      0.19      0.23     20468\n",
      "    surprise       0.20      0.33      0.25     20619\n",
      "       trust       0.32      0.30      0.31     20636\n",
      "\n",
      "    accuracy                           0.29    165071\n",
      "   macro avg       0.29      0.29      0.29    165071\n",
      "weighted avg       0.29      0.29      0.29    165071\n",
      "\n",
      "Macro F1 Score: 0.28551043002356546\n"
     ]
    }
   ],
   "source": [
    "print(classification_report(y_val, y_val_pred))\n",
    "print(\"Macro F1 Score:\", f1_score(y_val, y_val_pred, average='macro'))"
   ]
  },
  {
   "cell_type": "code",
   "execution_count": 29,
   "id": "8ab45c5b",
   "metadata": {
    "execution": {
     "iopub.execute_input": "2024-12-09T00:12:27.627224Z",
     "iopub.status.busy": "2024-12-09T00:12:27.626911Z",
     "iopub.status.idle": "2024-12-09T00:13:29.635672Z",
     "shell.execute_reply": "2024-12-09T00:13:29.634739Z"
    },
    "papermill": {
     "duration": 62.027156,
     "end_time": "2024-12-09T00:13:29.645091",
     "exception": false,
     "start_time": "2024-12-09T00:12:27.617935",
     "status": "completed"
    },
    "tags": []
   },
   "outputs": [
    {
     "name": "stdout",
     "output_type": "stream",
     "text": [
      "TF-IDF matrix shape: (3225101, 2000)\n"
     ]
    }
   ],
   "source": [
    "#optimize parameters to capture more meaningful features\n",
    "from sklearn.feature_extraction.text import TfidfVectorizer\n",
    "\n",
    "vectorizer = TfidfVectorizer(max_features=2000, ngram_range=(1, 2), max_df=0.9, min_df=5)\n",
    "X_train = vectorizer.fit_transform(train_data_balanced['cleaned_text'])\n",
    "X_val = vectorizer.transform(test_data['cleaned_text'])\n",
    "\n",
    "print(\"TF-IDF matrix shape:\", X_train.shape)\n"
   ]
  },
  {
   "cell_type": "code",
   "execution_count": 30,
   "id": "c07d66ad",
   "metadata": {
    "execution": {
     "iopub.execute_input": "2024-12-09T00:13:29.662750Z",
     "iopub.status.busy": "2024-12-09T00:13:29.662021Z",
     "iopub.status.idle": "2024-12-09T00:13:30.531608Z",
     "shell.execute_reply": "2024-12-09T00:13:30.530615Z"
    },
    "papermill": {
     "duration": 0.880384,
     "end_time": "2024-12-09T00:13:30.533503",
     "exception": false,
     "start_time": "2024-12-09T00:13:29.653119",
     "status": "completed"
    },
    "tags": []
   },
   "outputs": [
    {
     "name": "stdout",
     "output_type": "stream",
     "text": [
      "Class Weights: {'joy': 0.7812487282395735, 'trust': 1.0416669896540676, 'anticipation': 1.0416669896540676, 'sadness': 1.0416669896540676, 'disgust': 1.0416669896540676, 'fear': 1.0416669896540676, 'surprise': 1.0416669896540676, 'anger': 1.0416669896540676}\n"
     ]
    }
   ],
   "source": [
    "# Logistic regression with class weights\n",
    "from sklearn.linear_model import LogisticRegression\n",
    "from sklearn.metrics import classification_report, f1_score\n",
    "from sklearn.utils.class_weight import compute_class_weight\n",
    "\n",
    "classes = train_data_balanced['emotion'].unique()\n",
    "class_weights = compute_class_weight('balanced', classes=classes, y=train_data_balanced['emotion'])\n",
    "class_weights_dict = dict(zip(classes, class_weights))\n",
    "print(\"Class Weights:\", class_weights_dict)"
   ]
  },
  {
   "cell_type": "code",
   "execution_count": 31,
   "id": "d52846b7",
   "metadata": {
    "execution": {
     "iopub.execute_input": "2024-12-09T00:13:30.551416Z",
     "iopub.status.busy": "2024-12-09T00:13:30.551115Z",
     "iopub.status.idle": "2024-12-09T00:13:31.275202Z",
     "shell.execute_reply": "2024-12-09T00:13:31.274497Z"
    },
    "papermill": {
     "duration": 0.735244,
     "end_time": "2024-12-09T00:13:31.277170",
     "exception": false,
     "start_time": "2024-12-09T00:13:30.541926",
     "status": "completed"
    },
    "tags": []
   },
   "outputs": [],
   "source": [
    "# Split training and validation sets\n",
    "from sklearn.model_selection import train_test_split\n",
    "X_train_split, X_val_split, y_train_split, y_val_split = train_test_split(X_train, train_data_balanced['emotion'], test_size=0.2, random_state=42)"
   ]
  },
  {
   "cell_type": "code",
   "execution_count": 32,
   "id": "c1eb8035",
   "metadata": {
    "execution": {
     "iopub.execute_input": "2024-12-09T00:13:31.295440Z",
     "iopub.status.busy": "2024-12-09T00:13:31.294852Z",
     "iopub.status.idle": "2024-12-09T00:28:24.187824Z",
     "shell.execute_reply": "2024-12-09T00:28:24.187040Z"
    },
    "papermill": {
     "duration": 892.918733,
     "end_time": "2024-12-09T00:28:24.204545",
     "exception": false,
     "start_time": "2024-12-09T00:13:31.285812",
     "status": "completed"
    },
    "tags": []
   },
   "outputs": [
    {
     "data": {
      "text/html": [
       "<style>#sk-container-id-1 {color: black;background-color: white;}#sk-container-id-1 pre{padding: 0;}#sk-container-id-1 div.sk-toggleable {background-color: white;}#sk-container-id-1 label.sk-toggleable__label {cursor: pointer;display: block;width: 100%;margin-bottom: 0;padding: 0.3em;box-sizing: border-box;text-align: center;}#sk-container-id-1 label.sk-toggleable__label-arrow:before {content: \"▸\";float: left;margin-right: 0.25em;color: #696969;}#sk-container-id-1 label.sk-toggleable__label-arrow:hover:before {color: black;}#sk-container-id-1 div.sk-estimator:hover label.sk-toggleable__label-arrow:before {color: black;}#sk-container-id-1 div.sk-toggleable__content {max-height: 0;max-width: 0;overflow: hidden;text-align: left;background-color: #f0f8ff;}#sk-container-id-1 div.sk-toggleable__content pre {margin: 0.2em;color: black;border-radius: 0.25em;background-color: #f0f8ff;}#sk-container-id-1 input.sk-toggleable__control:checked~div.sk-toggleable__content {max-height: 200px;max-width: 100%;overflow: auto;}#sk-container-id-1 input.sk-toggleable__control:checked~label.sk-toggleable__label-arrow:before {content: \"▾\";}#sk-container-id-1 div.sk-estimator input.sk-toggleable__control:checked~label.sk-toggleable__label {background-color: #d4ebff;}#sk-container-id-1 div.sk-label input.sk-toggleable__control:checked~label.sk-toggleable__label {background-color: #d4ebff;}#sk-container-id-1 input.sk-hidden--visually {border: 0;clip: rect(1px 1px 1px 1px);clip: rect(1px, 1px, 1px, 1px);height: 1px;margin: -1px;overflow: hidden;padding: 0;position: absolute;width: 1px;}#sk-container-id-1 div.sk-estimator {font-family: monospace;background-color: #f0f8ff;border: 1px dotted black;border-radius: 0.25em;box-sizing: border-box;margin-bottom: 0.5em;}#sk-container-id-1 div.sk-estimator:hover {background-color: #d4ebff;}#sk-container-id-1 div.sk-parallel-item::after {content: \"\";width: 100%;border-bottom: 1px solid gray;flex-grow: 1;}#sk-container-id-1 div.sk-label:hover label.sk-toggleable__label {background-color: #d4ebff;}#sk-container-id-1 div.sk-serial::before {content: \"\";position: absolute;border-left: 1px solid gray;box-sizing: border-box;top: 0;bottom: 0;left: 50%;z-index: 0;}#sk-container-id-1 div.sk-serial {display: flex;flex-direction: column;align-items: center;background-color: white;padding-right: 0.2em;padding-left: 0.2em;position: relative;}#sk-container-id-1 div.sk-item {position: relative;z-index: 1;}#sk-container-id-1 div.sk-parallel {display: flex;align-items: stretch;justify-content: center;background-color: white;position: relative;}#sk-container-id-1 div.sk-item::before, #sk-container-id-1 div.sk-parallel-item::before {content: \"\";position: absolute;border-left: 1px solid gray;box-sizing: border-box;top: 0;bottom: 0;left: 50%;z-index: -1;}#sk-container-id-1 div.sk-parallel-item {display: flex;flex-direction: column;z-index: 1;position: relative;background-color: white;}#sk-container-id-1 div.sk-parallel-item:first-child::after {align-self: flex-end;width: 50%;}#sk-container-id-1 div.sk-parallel-item:last-child::after {align-self: flex-start;width: 50%;}#sk-container-id-1 div.sk-parallel-item:only-child::after {width: 0;}#sk-container-id-1 div.sk-dashed-wrapped {border: 1px dashed gray;margin: 0 0.4em 0.5em 0.4em;box-sizing: border-box;padding-bottom: 0.4em;background-color: white;}#sk-container-id-1 div.sk-label label {font-family: monospace;font-weight: bold;display: inline-block;line-height: 1.2em;}#sk-container-id-1 div.sk-label-container {text-align: center;}#sk-container-id-1 div.sk-container {/* jupyter's `normalize.less` sets `[hidden] { display: none; }` but bootstrap.min.css set `[hidden] { display: none !important; }` so we also need the `!important` here to be able to override the default hidden behavior on the sphinx rendered scikit-learn.org. See: https://github.com/scikit-learn/scikit-learn/issues/21755 */display: inline-block !important;position: relative;}#sk-container-id-1 div.sk-text-repr-fallback {display: none;}</style><div id=\"sk-container-id-1\" class=\"sk-top-container\"><div class=\"sk-text-repr-fallback\"><pre>LogisticRegression(class_weight={&#x27;anger&#x27;: 1.0416669896540676,\n",
       "                                 &#x27;anticipation&#x27;: 1.0416669896540676,\n",
       "                                 &#x27;disgust&#x27;: 1.0416669896540676,\n",
       "                                 &#x27;fear&#x27;: 1.0416669896540676,\n",
       "                                 &#x27;joy&#x27;: 0.7812487282395735,\n",
       "                                 &#x27;sadness&#x27;: 1.0416669896540676,\n",
       "                                 &#x27;surprise&#x27;: 1.0416669896540676,\n",
       "                                 &#x27;trust&#x27;: 1.0416669896540676},\n",
       "                   max_iter=1000, random_state=42)</pre><b>In a Jupyter environment, please rerun this cell to show the HTML representation or trust the notebook. <br />On GitHub, the HTML representation is unable to render, please try loading this page with nbviewer.org.</b></div><div class=\"sk-container\" hidden><div class=\"sk-item\"><div class=\"sk-estimator sk-toggleable\"><input class=\"sk-toggleable__control sk-hidden--visually\" id=\"sk-estimator-id-1\" type=\"checkbox\" checked><label for=\"sk-estimator-id-1\" class=\"sk-toggleable__label sk-toggleable__label-arrow\">LogisticRegression</label><div class=\"sk-toggleable__content\"><pre>LogisticRegression(class_weight={&#x27;anger&#x27;: 1.0416669896540676,\n",
       "                                 &#x27;anticipation&#x27;: 1.0416669896540676,\n",
       "                                 &#x27;disgust&#x27;: 1.0416669896540676,\n",
       "                                 &#x27;fear&#x27;: 1.0416669896540676,\n",
       "                                 &#x27;joy&#x27;: 0.7812487282395735,\n",
       "                                 &#x27;sadness&#x27;: 1.0416669896540676,\n",
       "                                 &#x27;surprise&#x27;: 1.0416669896540676,\n",
       "                                 &#x27;trust&#x27;: 1.0416669896540676},\n",
       "                   max_iter=1000, random_state=42)</pre></div></div></div></div></div>"
      ],
      "text/plain": [
       "LogisticRegression(class_weight={'anger': 1.0416669896540676,\n",
       "                                 'anticipation': 1.0416669896540676,\n",
       "                                 'disgust': 1.0416669896540676,\n",
       "                                 'fear': 1.0416669896540676,\n",
       "                                 'joy': 0.7812487282395735,\n",
       "                                 'sadness': 1.0416669896540676,\n",
       "                                 'surprise': 1.0416669896540676,\n",
       "                                 'trust': 1.0416669896540676},\n",
       "                   max_iter=1000, random_state=42)"
      ]
     },
     "execution_count": 32,
     "metadata": {},
     "output_type": "execute_result"
    }
   ],
   "source": [
    "# Train Logistic Regression\n",
    "model = LogisticRegression(max_iter=1000, class_weight=class_weights_dict, random_state=42)\n",
    "model.fit(X_train_split, y_train_split)"
   ]
  },
  {
   "cell_type": "code",
   "execution_count": 33,
   "id": "95960163",
   "metadata": {
    "execution": {
     "iopub.execute_input": "2024-12-09T00:28:24.233311Z",
     "iopub.status.busy": "2024-12-09T00:28:24.232989Z",
     "iopub.status.idle": "2024-12-09T00:28:55.733454Z",
     "shell.execute_reply": "2024-12-09T00:28:55.732541Z"
    },
    "papermill": {
     "duration": 31.525575,
     "end_time": "2024-12-09T00:28:55.743887",
     "exception": false,
     "start_time": "2024-12-09T00:28:24.218312",
     "status": "completed"
    },
    "tags": []
   },
   "outputs": [
    {
     "name": "stdout",
     "output_type": "stream",
     "text": [
      "              precision    recall  f1-score   support\n",
      "\n",
      "       anger       0.37      0.44      0.40     77448\n",
      "anticipation       0.41      0.46      0.43     77113\n",
      "     disgust       0.29      0.30      0.29     77404\n",
      "        fear       0.36      0.48      0.41     77500\n",
      "         joy       0.42      0.31      0.35    103170\n",
      "     sadness       0.31      0.24      0.27     77646\n",
      "    surprise       0.34      0.30      0.32     77264\n",
      "       trust       0.35      0.34      0.34     77476\n",
      "\n",
      "    accuracy                           0.36    645021\n",
      "   macro avg       0.35      0.36      0.35    645021\n",
      "weighted avg       0.36      0.36      0.35    645021\n",
      "\n",
      "Macro F1 Score: 0.3528236089987873\n"
     ]
    }
   ],
   "source": [
    "y_val_pred = model.predict(X_val_split)\n",
    "print(classification_report(y_val_split, y_val_pred))\n",
    "print(\"Macro F1 Score:\", f1_score(y_val_split, y_val_pred, average='macro'))"
   ]
  },
  {
   "cell_type": "code",
   "execution_count": 34,
   "id": "1d04dd25",
   "metadata": {
    "execution": {
     "iopub.execute_input": "2024-12-09T00:28:55.762199Z",
     "iopub.status.busy": "2024-12-09T00:28:55.761569Z",
     "iopub.status.idle": "2024-12-09T00:29:05.106935Z",
     "shell.execute_reply": "2024-12-09T00:29:05.106240Z"
    },
    "papermill": {
     "duration": 9.356596,
     "end_time": "2024-12-09T00:29:05.108925",
     "exception": false,
     "start_time": "2024-12-09T00:28:55.752329",
     "status": "completed"
    },
    "tags": []
   },
   "outputs": [],
   "source": [
    "test_data['cleaned_text'] = test_data['text'].apply(clean_text)\n",
    "\n",
    "# Transform test data into feature matrix using the same TF-IDF vectorizer\n",
    "X_test = vectorizer.transform(test_data['cleaned_text'])"
   ]
  },
  {
   "cell_type": "code",
   "execution_count": 35,
   "id": "36067089",
   "metadata": {
    "execution": {
     "iopub.execute_input": "2024-12-09T00:29:05.127869Z",
     "iopub.status.busy": "2024-12-09T00:29:05.127619Z",
     "iopub.status.idle": "2024-12-09T00:29:05.200223Z",
     "shell.execute_reply": "2024-12-09T00:29:05.199512Z"
    },
    "papermill": {
     "duration": 0.084118,
     "end_time": "2024-12-09T00:29:05.202275",
     "exception": false,
     "start_time": "2024-12-09T00:29:05.118157",
     "status": "completed"
    },
    "tags": []
   },
   "outputs": [],
   "source": [
    "# Predict emotions for the test set\n",
    "y_test_pred = model.predict(X_test)"
   ]
  }
 ],
 "metadata": {
  "kaggle": {
   "accelerator": "gpu",
   "dataSources": [
    {
     "databundleVersionId": 9912598,
     "sourceId": 87232,
     "sourceType": "competition"
    }
   ],
   "dockerImageVersionId": 30787,
   "isGpuEnabled": true,
   "isInternetEnabled": true,
   "language": "python",
   "sourceType": "notebook"
  },
  "kernelspec": {
   "display_name": "Python 3",
   "language": "python",
   "name": "python3"
  },
  "language_info": {
   "codemirror_mode": {
    "name": "ipython",
    "version": 3
   },
   "file_extension": ".py",
   "mimetype": "text/x-python",
   "name": "python",
   "nbconvert_exporter": "python",
   "pygments_lexer": "ipython3",
   "version": "3.10.14"
  },
  "papermill": {
   "default_parameters": {},
   "duration": 1467.364387,
   "end_time": "2024-12-09T00:29:07.637910",
   "environment_variables": {},
   "exception": null,
   "input_path": "__notebook__.ipynb",
   "output_path": "__notebook__.ipynb",
   "parameters": {},
   "start_time": "2024-12-09T00:04:40.273523",
   "version": "2.6.0"
  }
 },
 "nbformat": 4,
 "nbformat_minor": 5
}
